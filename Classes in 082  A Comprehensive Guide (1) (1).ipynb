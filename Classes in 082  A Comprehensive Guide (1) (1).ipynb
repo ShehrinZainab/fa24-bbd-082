{
 "cells": [
  {
   "cell_type": "markdown",
   "id": "81a365e3",
   "metadata": {},
   "source": [
    "# Classes in Python: A Comprehensive Guide\n",
    "\n",
    "## Introduction\n",
    "### In Python, classes are a fundamental building block for object-oriented programming (OOP). OOP is a programming paradigm that uses objects and classes to model real-world scenarios. They allow you to create user-defined data structures that encapsulate both data (attributes) and behavior (methods). This encapsulation promotes code reusability, modularity, and maintainability."
   ]
  },
  {
   "cell_type": "markdown",
   "id": "0a0d6649",
   "metadata": {},
   "source": [
    "## Key Concepts\n",
    "### Class: A blueprint for creating objects. It defines the attributes and methods that objects of that class will possess.\n",
    "### Object: An instance of a class. It has its own unique set of attribute values.\n",
    "### Attributes: Variables that store data associated with an object.\n",
    "### Methods: Functions that operate on the object's data.\n",
    "### Constructor: A special method called __init__ that is automatically invoked when an object is created. It initializes the object's attributes.\n",
    "## Creating a Class and Object"
   ]
  },
  {
   "cell_type": "code",
   "execution_count": 1,
   "id": "0239378a",
   "metadata": {},
   "outputs": [
    {
     "name": "stdout",
     "output_type": "stream",
     "text": [
      "Buddy\n",
      "Buddy barks!\n"
     ]
    }
   ],
   "source": [
    "class Dog:\n",
    "    def __init__(self, name, breed):\n",
    "        self.name = name\n",
    "        self.breed = breed\n",
    "\n",
    "    def bark(self):\n",
    "        print(f\"{self.name} barks!\")\n",
    "\n",
    "# Create an object of the Dog class\n",
    "my_dog = Dog(\"Buddy\", \"Golden Retriever\")\n",
    "\n",
    "# Access attributes and call methods\n",
    "print(my_dog.name)  # Output: Buddy\n",
    "my_dog.bark()  # Output: Buddy barks!"
   ]
  },
  {
   "cell_type": "markdown",
   "id": "db04f438",
   "metadata": {},
   "source": [
    "## Inheritance\n",
    "### Inheritance allows you to create new classes (child classes) that inherit attributes and methods from existing classes (parent classes). This promotes code reuse and hierarchical relationships between classes."
   ]
  },
  {
   "cell_type": "code",
   "execution_count": 2,
   "id": "9dcf9e3a",
   "metadata": {},
   "outputs": [
    {
     "name": "stdout",
     "output_type": "stream",
     "text": [
      "Buddy is eating.\n",
      "Buddy barks!\n"
     ]
    }
   ],
   "source": [
    "class Animal:\n",
    "    def __init__(self, name):\n",
    "        self.name = name\n",
    "\n",
    "    def eat(self):\n",
    "        print(f\"{self.name} is eating.\")\n",
    "\n",
    "class Dog(Animal):\n",
    "    def bark(self):\n",
    "        print(f\"{self.name} barks!\")\n",
    "\n",
    "my_dog = Dog(\"Buddy\")\n",
    "my_dog.eat()  # Output: Buddy is eating.\n",
    "my_dog.bark()  # Output: Buddy barks!"
   ]
  },
  {
   "cell_type": "markdown",
   "id": "d76e9927",
   "metadata": {},
   "source": [
    "## Encapsulation\n",
    "### Encapsulation is the practice of hiding the internal implementation details of a class from the outside world. This promotes code modularity and prevents unintended modifications."
   ]
  },
  {
   "cell_type": "code",
   "execution_count": 3,
   "id": "788a14d6",
   "metadata": {},
   "outputs": [],
   "source": [
    "class BankAccount:\n",
    "    def __init__(self, balance):\n",
    "        self.__balance = balance  # Private attribute\n",
    "\n",
    "    def deposit(self, amount):\n",
    "        self.__balance += amount\n",
    "\n",
    "    def withdraw(self, amount):\n",
    "        if self.__balance >= amount:\n",
    "            self.__balance -= amount\n",
    "        else:\n",
    "            print(\"Insufficient funds.\")\n",
    "\n",
    "    def get_balance(self):\n",
    "        return self.__balance"
   ]
  },
  {
   "cell_type": "markdown",
   "id": "99ec9b48",
   "metadata": {},
   "source": [
    "## Practice Exercises\n",
    "\n",
    "### 1. Create a class Person with attributes name, age, and city.\n",
    "### 2. Create a class Car with attributes make, model, and year.\n",
    "### 3. Create a class Circle with attributes radius and methods to calculate area and circumference.\n",
    "### 4. Create a class Rectangle with attributes length and width and methods to calculate area and perimeter.\n",
    "### 5. Create a class Student with attributes name, roll_number, and marks. Implement a method to calculate the average marks.\n",
    "### 6. Create a class Book with attributes title, author, and publication_year.\n",
    "### 7. Create a class Employee with attributes name, salary, and designation.\n",
    "### 8. Create a class Bank with attributes name, account_number, and balance. Implement methods to deposit and withdraw money.\n",
    "### 9. Create a class Shape with a method to calculate area. Create subclasses Circle, Rectangle, and Triangle that inherit from Shape and implement their specific area calculations.\n",
    "### 10. Create a class Animal with attributes name and sound. Create subclasses Dog, Cat, and Cow that inherit from Animal and implement their specific sounds.\n",
    "\n",
    "## Additional Tips\n",
    "### Use meaningful names for classes, attributes, and methods.\n",
    "### Write clear and concise code.\n",
    "### Use comments to explain complex logic.\n",
    "### Test your code thoroughly.\n",
    "### Consider using inheritance to avoid code duplication.\n",
    "### Encapsulate data to protect it from accidental modification.\n",
    "### Use polymorphism to create flexible and adaptable code."
   ]
  },
  {
   "cell_type": "code",
   "execution_count": 45,
   "id": "a658bc45-ae76-47c2-8344-308cd2f5eb09",
   "metadata": {},
   "outputs": [
    {
     "name": "stdout",
     "output_type": "stream",
     "text": [
      "Shehrin\n",
      "20\n",
      "Sargodha\n"
     ]
    }
   ],
   "source": [
    "class person:                                               #1\n",
    "    def __init__(self,name,age,city):\n",
    "        self.name = name\n",
    "        self.age =  age\n",
    "        self.city = city\n",
    "the_person = person(\"Shehrin\", 20, \"Sargodha\")\n",
    "print(the_person.name)\n",
    "print(the_person.age)\n",
    "print(the_person.city)"
   ]
  },
  {
   "cell_type": "code",
   "execution_count": 69,
   "id": "4c17aa6e-1c25-4161-9560-4c954bd48032",
   "metadata": {},
   "outputs": [
    {
     "name": "stdout",
     "output_type": "stream",
     "text": [
      "Audi\n",
      "Grade x\n",
      "2025\n"
     ]
    }
   ],
   "source": [
    "class car:                                               #2\n",
    "    def __init__(self,make,model,year):\n",
    "      self.make = make\n",
    "      self.model = model\n",
    "      self.year = year\n",
    "the_car = car(\"Audi\", \"Grade x\" , 2025)\n",
    "print(the_car.make)\n",
    "print(the_car.model)\n",
    "print(the_car.year)\n"
   ]
  },
  {
   "cell_type": "code",
   "execution_count": 75,
   "id": "3a894d6c-133d-4ffe-b0ca-cea2143de38c",
   "metadata": {},
   "outputs": [
    {
     "name": "stdout",
     "output_type": "stream",
     "text": [
      "Bilal is eating.\n",
      "Bilal talks!\n"
     ]
    }
   ],
   "source": [
    "class human:                                          \n",
    "    def __init__(self,name):\n",
    "        self.name = name\n",
    "    def eat(self):\n",
    "        print(f\"{self.name} is eating.\")\n",
    "class person(human):\n",
    "    def talk(self):\n",
    "        print(f\"{self.name} talks!\")\n",
    "the_person = person(\"Bilal\")\n",
    "the_person.eat()\n",
    "the_person.talk()"
   ]
  },
  {
   "cell_type": "code",
   "execution_count": 79,
   "id": "9d8b8a84-2f85-4eb9-878e-c953784f1c3e",
   "metadata": {},
   "outputs": [
    {
     "name": "stdout",
     "output_type": "stream",
     "text": [
      "Area: 78.53981633974483\n",
      "circumference: 31.41592653589793\n"
     ]
    }
   ],
   "source": [
    "import math                                        #3\n",
    "class circle:\n",
    "    def __init__(self,radius):\n",
    "        self.radius = radius\n",
    "    def area(self):\n",
    "        return math.pi * self.radius**2\n",
    "    def circumference(self):\n",
    "        return 2 * math.pi * self.radius\n",
    "circle = circle(5)\n",
    "print(\"Area:\", circle.area())\n",
    "print(\"circumference:\" , circle.circumference())"
   ]
  },
  {
   "cell_type": "code",
   "execution_count": 83,
   "id": "8a117d09-4545-4d70-81d2-3260b97f54f5",
   "metadata": {},
   "outputs": [
    {
     "name": "stdout",
     "output_type": "stream",
     "text": [
      "Area: 50\n",
      "perimeter: 30\n"
     ]
    }
   ],
   "source": [
    "class rectangle:                                  #4\n",
    "    def __init__(self, length, width):\n",
    "        self.length = length\n",
    "        self.width = width\n",
    "    def area(self):\n",
    "        return self.length* self.width\n",
    "    def perimeter(self):\n",
    "        return 2 * (self.length + self.width)\n",
    "rectangle = rectangle(10,5)\n",
    "print(\"Area:\", rectangle.area())\n",
    "print(\"perimeter:\", rectangle.perimeter())\n",
    "    "
   ]
  },
  {
   "cell_type": "code",
   "execution_count": 13,
   "id": "560180f0-31e5-4d04-a874-26667ed9a315",
   "metadata": {},
   "outputs": [
    {
     "name": "stdout",
     "output_type": "stream",
     "text": [
      "Average marks of Ishmal Atif (Roll No: 36): 86.60\n"
     ]
    }
   ],
   "source": [
    "class Student:                                   #5\n",
    "    def __init__(self, name, roll_number, marks):\n",
    "        self.name = name\n",
    "        self.roll_number = roll_number\n",
    "        self.marks = marks  \n",
    "    \n",
    "    def calculate_average(self):\n",
    "        if not self.marks:\n",
    "            return 0  \n",
    "        return sum(self.marks) / len(self.marks)\n",
    "    \n",
    "\n",
    "student1 = Student(\"Ishmal Atif\", 36, [85, 90, 78, 92, 88])\n",
    "average_marks = student1.calculate_average()\n",
    "print(f\"Average marks of {student1.name} (Roll No: {student1.roll_number}): {average_marks:.2f}\")\n"
   ]
  },
  {
   "cell_type": "code",
   "execution_count": 15,
   "id": "c9584af0-06d9-45b6-938e-9ed9b30125b7",
   "metadata": {},
   "outputs": [
    {
     "name": "stdout",
     "output_type": "stream",
     "text": [
      "'The alchemist' by Paulo Coelho, published in 1988\n",
      "'It ends with us' by Colleen Hoover, published in 2016\n"
     ]
    }
   ],
   "source": [
    "class Book:                                    #6\n",
    "    def __init__(self, title, author, publication_year):\n",
    "        self.title = title\n",
    "        self.author = author\n",
    "        self.publication_year = publication_year\n",
    "\n",
    "    def __str__(self):\n",
    "\n",
    "        return f\"'{self.title}' by {self.author}, published in {self.publication_year}\"\n",
    "\n",
    "book1 = Book(\"The alchemist\", \"Paulo Coelho\", 1988)\n",
    "book2 = Book(\"It ends with us\", \"Colleen Hoover\", 2016)\n",
    "\n",
    "print(book1)\n",
    "print(book2)\n"
   ]
  },
  {
   "cell_type": "code",
   "execution_count": 17,
   "id": "6da26750-3949-4f2e-92a0-e6fa23219698",
   "metadata": {},
   "outputs": [
    {
     "name": "stdout",
     "output_type": "stream",
     "text": [
      "Employee: Ishmal Atif, Designation: Data Analyst, Salary: $55,000.00\n",
      "Employee: Shehrin Zainab, Designation: Data Scientist, Salary: $75,000.00\n"
     ]
    }
   ],
   "source": [
    "class Employee:                            #7\n",
    "    def __init__(self, name, salary, designation):\n",
    "        self.name = name\n",
    "        self.salary = salary\n",
    "        self.designation = designation\n",
    "\n",
    "    def __str__(self):\n",
    "    \n",
    "        return f\"Employee: {self.name}, Designation: {self.designation}, Salary: ${self.salary:,.2f}\"\n",
    "\n",
    "\n",
    "employee1 = Employee(\"Ishmal Atif\", 55000, \"Data Analyst\")\n",
    "employee2 = Employee(\"Shehrin Zainab\", 75000, \"Data Scientist\")\n",
    "\n",
    "print(employee1)\n",
    "print(employee2)\n"
   ]
  },
  {
   "cell_type": "code",
   "execution_count": 23,
   "id": "6625b08d-8c0c-4b18-b1eb-0e7ae6434b9b",
   "metadata": {},
   "outputs": [
    {
     "name": "stdout",
     "output_type": "stream",
     "text": [
      "Deposited $200.00. New balance: $700.00\n",
      "Withdrew $100.00. New balance: $600.00\n",
      "Insufficient funds. Available balance: $600.00\n",
      "Account Holder: Shehrin Zainab, Account Number: 1234567890, Balance: $600.00\n"
     ]
    }
   ],
   "source": [
    "class Bank:                                 #8\n",
    "    def __init__(self, name, account_number, balance=0.0):\n",
    "        self.name = name\n",
    "        self.account_number = account_number\n",
    "        self.balance = balance\n",
    "\n",
    "    def deposit(self, amount):\n",
    "        \"\"\"Deposit money into the account\"\"\"\n",
    "        if amount <= 0:\n",
    "            print(\"Deposit amount must be positive!\")\n",
    "        else:\n",
    "            self.balance += amount\n",
    "            print(f\"Deposited ${amount:,.2f}. New balance: ${self.balance:,.2f}\")\n",
    "\n",
    "    def withdraw(self, amount):\n",
    "        \"\"\"Withdraw money from the account\"\"\"\n",
    "        if amount <= 0:\n",
    "            print(\"Withdrawal amount must be positive!\")\n",
    "        elif amount > self.balance:\n",
    "            print(f\"Insufficient funds. Available balance: ${self.balance:,.2f}\")\n",
    "        else:\n",
    "            self.balance -= amount\n",
    "            print(f\"Withdrew ${amount:,.2f}. New balance: ${self.balance:,.2f}\")\n",
    "\n",
    "    def __str__(self):\n",
    "        \"\"\"Return a string representation of the account details\"\"\"\n",
    "        return f\"Account Holder: {self.name}, Account Number: {self.account_number}, Balance: ${self.balance:,.2f}\"\n",
    "\n",
    "\n",
    "account1 = Bank(\"Shehrin Zainab\", \"1234567890\", 500.0)\n",
    "account1.deposit(200)\n",
    "account1.withdraw(100)\n",
    "account1.withdraw(700) \n",
    "print(account1)\n"
   ]
  },
  {
   "cell_type": "code",
   "execution_count": null,
   "id": "a813005f-5a38-4732-9af7-c3f801cc6fed",
   "metadata": {},
   "outputs": [],
   "source": []
  }
 ],
 "metadata": {
  "kernelspec": {
   "display_name": "Python 3 (ipykernel)",
   "language": "python",
   "name": "python3"
  },
  "language_info": {
   "codemirror_mode": {
    "name": "ipython",
    "version": 3
   },
   "file_extension": ".py",
   "mimetype": "text/x-python",
   "name": "python",
   "nbconvert_exporter": "python",
   "pygments_lexer": "ipython3",
   "version": "3.12.4"
  }
 },
 "nbformat": 4,
 "nbformat_minor": 5
}
